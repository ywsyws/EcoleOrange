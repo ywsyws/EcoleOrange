{
 "cells": [
  {
   "cell_type": "code",
   "execution_count": 5,
   "metadata": {},
   "outputs": [],
   "source": [
    "import numpy as np"
   ]
  },
  {
   "cell_type": "code",
   "execution_count": 108,
   "metadata": {},
   "outputs": [],
   "source": [
    "''' create dataset '''\n",
    "def create_dataset(col):\n",
    "    \n",
    "    # create training entry set - X\n",
    "    X = np.random.randint(2, size=(2,col))\n",
    "\n",
    "    # create label dateset - Y\n",
    "    Y = np.sum(X, axis=0, keepdims=1)\n",
    "    Y[Y!=1] = 0\n",
    "\n",
    "    # add noise in training entry set - X_test\n",
    "    X_mask = np.random.randn(2,col)\n",
    "    X_output = X + (X_mask / 10)\n",
    "    \n",
    "    return X_output, Y\n",
    "\n",
    "''' initialize parameters - W & b'''\n",
    "def initialize_parameters(n_x, n_h, n_y):\n",
    "    \n",
    "    parameters = {}        \n",
    "#     parameters[f'W{l}'] = np.random.randn(n_h, n_x) * 0.01\n",
    "    parameters['W1'] = np.random.randn(n_h, n_x) #* 0.01\n",
    "    parameters['b1'] = np.zeros((n_h, 1))\n",
    "    parameters['W2'] = np.random.randn(n_y, n_h) #* 0.01\n",
    "    parameters['b2'] = np.zeros((n_y, 1))\n",
    "    \n",
    "    return parameters\n",
    "\n",
    "''' activation function and its derivative '''\n",
    "def activation_fn(Z):\n",
    "    A = 1 / (1 + np.exp(-Z))\n",
    "    return A\n",
    "\n",
    "def activation_fn_back(A):\n",
    "    return A * (1 - A)\n",
    "\n",
    "''' forward propagation '''\n",
    "def forward_linear(X, W, b):\n",
    "    Z = np.dot(W, X) + b\n",
    "    return Z\n",
    "\n",
    "def forward_activation(X, parameters):\n",
    "    cache = {}\n",
    "    \n",
    "    cache['Z1'] = forward_linear(X, parameters['W1'], parameters['b1'])\n",
    "    cache['A1'] = activation_fn(cache['Z1'])\n",
    "    cache['Z2'] = forward_linear(cache['A1'], parameters['W2'], parameters['b2'])\n",
    "    cache['A2'] = activation_fn(cache['Z2'])\n",
    "    \n",
    "    return cache\n",
    "\n",
    "''' cost function '''\n",
    "def cost(Y, A):\n",
    "    m = Y.shape[1]\n",
    "    J = - np.sum (Y * np.log(A) + (1 - Y) * np.log(1 - A)) / m\n",
    "    return J\n",
    "\n",
    "''' backward propagation - calculate gradient descent'''\n",
    "def backward_pass(X, Y, cache):\n",
    "    \n",
    "    # last layer\n",
    "    grads = {}\n",
    "    m = Y.shape[1]\n",
    "    dZ2 = cache['A2'] - Y\n",
    "    grads['dW2'] = np.dot(dZ2, cache['A1'].T) / m\n",
    "    grads['db2'] = np.sum(dZ2) / m\n",
    "\n",
    "    # hidden layer\n",
    "    dA1 = np.dot(parameters['W2'].T, dZ2)\n",
    "    dZ1 = dA1 * activation_fn_back(cache['A1'])\n",
    "    grads['dW1'] = np.dot(dZ1, X.T) / m\n",
    "    grads['db1'] = np.sum(dZ1) / m\n",
    "\n",
    "    return grads\n",
    "\n",
    "''' update parameters - W & b'''\n",
    "def update_parameters(parameters, grads, learning_rate):\n",
    "    \n",
    "    parameters['W2'] -= learning_rate * grads['dW2']\n",
    "    parameters['b2'] -= learning_rate * grads['db2']\n",
    "    parameters['W1'] -= learning_rate * grads['dW1']\n",
    "    parameters['b1'] -= learning_rate * grads['db1']\n",
    "    \n",
    "    return parameters"
   ]
  },
  {
   "cell_type": "code",
   "execution_count": 136,
   "metadata": {},
   "outputs": [
    {
     "name": "stdout",
     "output_type": "stream",
     "text": [
      "J:  0.7051140445197301\n",
      "J:  0.03648036782032345\n",
      "J:  0.011931206778248805\n",
      "J:  0.007112688035382337\n",
      "J:  0.005087569483216505\n"
     ]
    }
   ],
   "source": [
    "''' train the model '''\n",
    "col = 5000\n",
    "n_x, n_h, n_y = 2, 5, 1\n",
    "iteration = 5000\n",
    "\n",
    "X, Y = create_dataset(col)\n",
    "parameters = initialize_parameters(n_x, n_h, n_y)\n",
    "\n",
    "for i in range(iteration):\n",
    "    cache = forward_activation(X, parameters)\n",
    "    J = cost(Y, cache['A2'])\n",
    "    grads = backward_pass(X, Y, cache)\n",
    "    parameters = update_parameters(parameters, grads, learning_rate=0.5)\n",
    "    \n",
    "    if i % 1000 == 0:\n",
    "#         print(i)\n",
    "        print ('J: ', J)"
   ]
  },
  {
   "cell_type": "code",
   "execution_count": 139,
   "metadata": {},
   "outputs": [],
   "source": [
    "''' predict the test dataset with the trained model '''\n",
    "def predict(col, X, Y, parameters):\n",
    "    \n",
    "    X_test, Y_test = create_dataset(col)\n",
    "    \n",
    "    cache_test = forward_activation(X_test, parameters)\n",
    "    A_test = (cache_test['A2'] > 0.5) * 1\n",
    "    \n",
    "    cache = forward_activation(X, parameters)\n",
    "    A_train = (cache['A2'] > 0.5) * 1\n",
    "    \n",
    "    accuracy_train = (A_train == Y) * 1\n",
    "    accuracy_test = (A_test == Y_test) * 1\n",
    "    \n",
    "    return accuracy_train, accuracy_test"
   ]
  },
  {
   "cell_type": "code",
   "execution_count": 154,
   "metadata": {},
   "outputs": [
    {
     "name": "stdout",
     "output_type": "stream",
     "text": [
      "Training Accuracy:  100.0 %\n",
      "Testing Accuracy:  100.0 %\n"
     ]
    }
   ],
   "source": [
    "accuracy_train, accuracy_test = predict(col, X, Y, parameters)\n",
    "print('Training Accuracy: ', np.mean(accuracy_train) * 100, '%')\n",
    "print('Testing Accuracy: ', np.mean(accuracy_test) * 100, '%')"
   ]
  },
  {
   "cell_type": "code",
   "execution_count": null,
   "metadata": {},
   "outputs": [],
   "source": []
  },
  {
   "cell_type": "code",
   "execution_count": null,
   "metadata": {},
   "outputs": [],
   "source": []
  }
 ],
 "metadata": {
  "kernelspec": {
   "display_name": "Python 3",
   "language": "python",
   "name": "python3"
  },
  "language_info": {
   "codemirror_mode": {
    "name": "ipython",
    "version": 3
   },
   "file_extension": ".py",
   "mimetype": "text/x-python",
   "name": "python",
   "nbconvert_exporter": "python",
   "pygments_lexer": "ipython3",
   "version": "3.7.1"
  }
 },
 "nbformat": 4,
 "nbformat_minor": 2
}
