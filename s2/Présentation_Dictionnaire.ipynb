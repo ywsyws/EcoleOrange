{
 "cells": [
  {
   "cell_type": "markdown",
   "metadata": {},
   "source": [
    "# Dictionnaire"
   ]
  },
  {
   "cell_type": "markdown",
   "metadata": {},
   "source": [
    "## Un dictionnaire est un containeur qui est composé des paires:  clés/valeurs\n",
    " ## Les clés peuvent être des chiffres, des strings ou des tuples \n",
    "## Caractéristiques de dictionnaire:\n",
    " ## pas d'ordre, changeable, indexé par les clés, pas membres dupliqué\n",
    "## Attention! Si tu enlèves des éléments d'un dictionnaire, ex. pop(), il se fait dans l'ordre de LIFO"
   ]
  },
  {
   "cell_type": "markdown",
   "metadata": {},
   "source": [
    "--------------"
   ]
  },
  {
   "cell_type": "markdown",
   "metadata": {},
   "source": [
    "## Création d'un dictionnaire"
   ]
  },
  {
   "cell_type": "code",
   "execution_count": 9,
   "metadata": {},
   "outputs": [],
   "source": [
    "# a = dict(key=value, ...)\n",
    "# b = {'key':value,...}\n",
    "# c = dict(zip(['key',...], [value, ...]))\n",
    "# d = dict(['key', value),...])\n",
    "# e = dict({'key':value,...})\n",
    "\n",
    "a = dict(one=1, two=2, three=3)\n",
    "b = {'one': 1, 'two': 2, 'three': 3}\n",
    "c = dict(zip(['one', 'two', 'three'], [1, 2, 3]))\n",
    "d = dict([('two', 2), ('one', 1), ('three', 3)])\n",
    "e = dict({'three': 3, 'one': 1, 'two': 2})"
   ]
  },
  {
   "cell_type": "code",
   "execution_count": 10,
   "metadata": {},
   "outputs": [
    {
     "data": {
      "text/plain": [
       "True"
      ]
     },
     "execution_count": 10,
     "metadata": {},
     "output_type": "execute_result"
    }
   ],
   "source": [
    "a == b == c == d == e"
   ]
  },
  {
   "cell_type": "code",
   "execution_count": 11,
   "metadata": {},
   "outputs": [
    {
     "data": {
      "text/plain": [
       "{}"
      ]
     },
     "execution_count": 11,
     "metadata": {},
     "output_type": "execute_result"
    }
   ],
   "source": [
    "# créer un dictionnaire vide\n",
    "f = {}\n",
    "f"
   ]
  },
  {
   "cell_type": "markdown",
   "metadata": {},
   "source": [
    "---"
   ]
  },
  {
   "cell_type": "markdown",
   "metadata": {},
   "source": [
    "## Les opérations gérées par les dictionnaires"
   ]
  },
  {
   "cell_type": "code",
   "execution_count": 12,
   "metadata": {},
   "outputs": [],
   "source": [
    "d = {\"one\": 1, \"two\": 2, \"three\": 3, \"four\": 4}"
   ]
  },
  {
   "cell_type": "code",
   "execution_count": 13,
   "metadata": {},
   "outputs": [
    {
     "name": "stdout",
     "output_type": "stream",
     "text": [
      "4\n",
      "{'one': 1, 'two': 2, 'three': 3, 'four': 4}\n",
      "4\n"
     ]
    }
   ],
   "source": [
    "# len(d) -- nombre d'éléments dans le dictionnaire\n",
    "print(len(d))\n",
    "\n",
    "# d[key] -- Donne l'élément de d dont la clef est key\n",
    "print(d)\n",
    "print(d[\"four\"])"
   ]
  },
  {
   "cell_type": "code",
   "execution_count": 14,
   "metadata": {},
   "outputs": [
    {
     "name": "stdout",
     "output_type": "stream",
     "text": [
      "['one', 'two', 'three', 'four']\n"
     ]
    },
    {
     "data": {
      "text/plain": [
       "[1, 2, 3, 4]"
      ]
     },
     "execution_count": 14,
     "metadata": {},
     "output_type": "execute_result"
    }
   ],
   "source": [
    "print(list(d)) # imprimer toutes les clés de d\n",
    "list(d.values()) # renoyer toutes les valeurs de d"
   ]
  },
  {
   "cell_type": "code",
   "execution_count": 15,
   "metadata": {},
   "outputs": [
    {
     "name": "stdout",
     "output_type": "stream",
     "text": [
      "{'one': 42, 'two': 2, 'three': 3, 'four': 4}\n",
      "{'one': 42, 'three': 3, 'four': 4}\n"
     ]
    }
   ],
   "source": [
    "# d[key] = value -- changer la valeur existante d'une clé\n",
    "d[\"one\"] = 42\n",
    "print(d)\n",
    "# del d[key] -- supprime d[key] de d\n",
    "del d[\"two\"]\n",
    "print (d)"
   ]
  },
  {
   "cell_type": "code",
   "execution_count": 16,
   "metadata": {},
   "outputs": [
    {
     "name": "stdout",
     "output_type": "stream",
     "text": [
      "True\n",
      "dict_items([('one', 42), ('three', 3), ('four', 4)])\n",
      "{}\n"
     ]
    }
   ],
   "source": [
    "# key in d -- renvoyer 'True' si d a la clef 'key'\n",
    "print('four' in d)\n",
    "\n",
    "# items() -- renoyer une nouvelle vue des éléments de d (paires de (key, value))\n",
    "print(d.items())\n",
    "\n",
    "# clear() -- supprimer tous les éléments de d\n",
    "d.clear()\n",
    "print(d)"
   ]
  },
  {
   "cell_type": "markdown",
   "metadata": {},
   "source": [
    "---- "
   ]
  },
  {
   "cell_type": "markdown",
   "metadata": {},
   "source": [
    "## Boucles"
   ]
  },
  {
   "cell_type": "code",
   "execution_count": 17,
   "metadata": {},
   "outputs": [
    {
     "name": "stdout",
     "output_type": "stream",
     "text": [
      "one 1\n",
      "two 2\n",
      "three 3\n",
      "four 4\n"
     ]
    }
   ],
   "source": [
    "d = {\"one\": 1, \"two\": 2, \"three\": 3, \"four\": 4}\n",
    "\n",
    "for k,v in d.items():\n",
    "    print(k,v)"
   ]
  },
  {
   "cell_type": "markdown",
   "metadata": {},
   "source": [
    "---"
   ]
  },
  {
   "cell_type": "markdown",
   "metadata": {},
   "source": [
    "## Map"
   ]
  },
  {
   "cell_type": "markdown",
   "metadata": {},
   "source": [
    "## Map est une fonction qui demande comme arguments une fonction et un ou plusieurs itérable(s).\n",
    "## Elle boucle la fonction sur le ou les itérable(s)\n",
    "## Les itérables peuvent être filtrés"
   ]
  },
  {
   "cell_type": "code",
   "execution_count": 18,
   "metadata": {},
   "outputs": [
    {
     "data": {
      "text/plain": [
       "['A', 'B', 'XYZ']"
      ]
     },
     "execution_count": 18,
     "metadata": {},
     "output_type": "execute_result"
    }
   ],
   "source": [
    "# map(fonc, list)\n",
    "def to_upper_case(s):\n",
    "    return str(s).upper()\n",
    "\n",
    "list(map(to_upper_case, ['a', 'b', 'xyz']))"
   ]
  },
  {
   "cell_type": "code",
   "execution_count": 19,
   "metadata": {},
   "outputs": [
    {
     "data": {
      "text/plain": [
       "['ONE', '2']"
      ]
     },
     "execution_count": 19,
     "metadata": {},
     "output_type": "execute_result"
    }
   ],
   "source": [
    "list(map(to_upper_case, {'one':'a', 2:'b'}))"
   ]
  },
  {
   "cell_type": "code",
   "execution_count": null,
   "metadata": {},
   "outputs": [],
   "source": []
  }
 ],
 "metadata": {
  "kernelspec": {
   "display_name": "Python 3",
   "language": "python",
   "name": "python3"
  },
  "language_info": {
   "codemirror_mode": {
    "name": "ipython",
    "version": 3
   },
   "file_extension": ".py",
   "mimetype": "text/x-python",
   "name": "python",
   "nbconvert_exporter": "python",
   "pygments_lexer": "ipython3",
   "version": "3.7.1"
  }
 },
 "nbformat": 4,
 "nbformat_minor": 2
}
